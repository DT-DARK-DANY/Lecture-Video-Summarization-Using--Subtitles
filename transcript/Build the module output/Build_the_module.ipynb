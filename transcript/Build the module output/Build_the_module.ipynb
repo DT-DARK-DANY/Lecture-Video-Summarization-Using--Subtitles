{
  "cells": [
    {
      "cell_type": "code",
      "execution_count": null,
      "metadata": {
        "colab": {
          "base_uri": "https://localhost:8080/"
        },
        "collapsed": true,
        "id": "-uKWNhusZmQi",
        "outputId": "681de998-c5de-443e-d580-e45a3ed8b5ab"
      },
      "outputs": [
        {
          "name": "stdout",
          "output_type": "stream",
          "text": [
            "Collecting yt-dlp\n",
            "  Downloading yt_dlp-2024.10.22-py3-none-any.whl.metadata (171 kB)\n",
            "\u001b[?25l     \u001b[90m━━━━━━━━━━━━━━━━━━━━━━━━━━━━━━━━━━━━━━━━\u001b[0m \u001b[32m0.0/171.6 kB\u001b[0m \u001b[31m?\u001b[0m eta \u001b[36m-:--:--\u001b[0m\r\u001b[2K     \u001b[91m━━━━━━━━━━━━━━━━━━━━━━━━━━━━━━━━━━━━━━\u001b[0m\u001b[90m╺\u001b[0m\u001b[90m━\u001b[0m \u001b[32m163.8/171.6 kB\u001b[0m \u001b[31m4.8 MB/s\u001b[0m eta \u001b[36m0:00:01\u001b[0m\r\u001b[2K     \u001b[90m━━━━━━━━━━━━━━━━━━━━━━━━━━━━━━━━━━━━━━━━\u001b[0m \u001b[32m171.6/171.6 kB\u001b[0m \u001b[31m2.4 MB/s\u001b[0m eta \u001b[36m0:00:00\u001b[0m\n",
            "\u001b[?25hCollecting brotli (from yt-dlp)\n",
            "  Downloading Brotli-1.1.0-cp310-cp310-manylinux_2_5_x86_64.manylinux1_x86_64.manylinux_2_12_x86_64.manylinux2010_x86_64.whl.metadata (5.5 kB)\n",
            "Requirement already satisfied: certifi in /usr/local/lib/python3.10/dist-packages (from yt-dlp) (2024.8.30)\n",
            "Collecting mutagen (from yt-dlp)\n",
            "  Downloading mutagen-1.47.0-py3-none-any.whl.metadata (1.7 kB)\n",
            "Collecting pycryptodomex (from yt-dlp)\n",
            "  Downloading pycryptodomex-3.21.0-cp36-abi3-manylinux_2_17_x86_64.manylinux2014_x86_64.whl.metadata (3.4 kB)\n",
            "Requirement already satisfied: requests<3,>=2.32.2 in /usr/local/lib/python3.10/dist-packages (from yt-dlp) (2.32.3)\n",
            "Requirement already satisfied: urllib3<3,>=1.26.17 in /usr/local/lib/python3.10/dist-packages (from yt-dlp) (2.2.3)\n",
            "Collecting websockets>=13.0 (from yt-dlp)\n",
            "  Downloading websockets-13.1-cp310-cp310-manylinux_2_5_x86_64.manylinux1_x86_64.manylinux_2_17_x86_64.manylinux2014_x86_64.whl.metadata (6.8 kB)\n",
            "Requirement already satisfied: charset-normalizer<4,>=2 in /usr/local/lib/python3.10/dist-packages (from requests<3,>=2.32.2->yt-dlp) (3.4.0)\n",
            "Requirement already satisfied: idna<4,>=2.5 in /usr/local/lib/python3.10/dist-packages (from requests<3,>=2.32.2->yt-dlp) (3.10)\n",
            "Downloading yt_dlp-2024.10.22-py3-none-any.whl (3.2 MB)\n",
            "\u001b[2K   \u001b[90m━━━━━━━━━━━━━━━━━━━━━━━━━━━━━━━━━━━━━━━━\u001b[0m \u001b[32m3.2/3.2 MB\u001b[0m \u001b[31m27.1 MB/s\u001b[0m eta \u001b[36m0:00:00\u001b[0m\n",
            "\u001b[?25hDownloading websockets-13.1-cp310-cp310-manylinux_2_5_x86_64.manylinux1_x86_64.manylinux_2_17_x86_64.manylinux2014_x86_64.whl (164 kB)\n",
            "\u001b[2K   \u001b[90m━━━━━━━━━━━━━━━━━━━━━━━━━━━━━━━━━━━━━━━━\u001b[0m \u001b[32m164.1/164.1 kB\u001b[0m \u001b[31m7.9 MB/s\u001b[0m eta \u001b[36m0:00:00\u001b[0m\n",
            "\u001b[?25hDownloading Brotli-1.1.0-cp310-cp310-manylinux_2_5_x86_64.manylinux1_x86_64.manylinux_2_12_x86_64.manylinux2010_x86_64.whl (3.0 MB)\n",
            "\u001b[2K   \u001b[90m━━━━━━━━━━━━━━━━━━━━━━━━━━━━━━━━━━━━━━━━\u001b[0m \u001b[32m3.0/3.0 MB\u001b[0m \u001b[31m50.6 MB/s\u001b[0m eta \u001b[36m0:00:00\u001b[0m\n",
            "\u001b[?25hDownloading mutagen-1.47.0-py3-none-any.whl (194 kB)\n",
            "\u001b[2K   \u001b[90m━━━━━━━━━━━━━━━━━━━━━━━━━━━━━━━━━━━━━━━━\u001b[0m \u001b[32m194.4/194.4 kB\u001b[0m \u001b[31m11.6 MB/s\u001b[0m eta \u001b[36m0:00:00\u001b[0m\n",
            "\u001b[?25hDownloading pycryptodomex-3.21.0-cp36-abi3-manylinux_2_17_x86_64.manylinux2014_x86_64.whl (2.3 MB)\n",
            "\u001b[2K   \u001b[90m━━━━━━━━━━━━━━━━━━━━━━━━━━━━━━━━━━━━━━━━\u001b[0m \u001b[32m2.3/2.3 MB\u001b[0m \u001b[31m21.8 MB/s\u001b[0m eta \u001b[36m0:00:00\u001b[0m\n",
            "\u001b[?25hInstalling collected packages: brotli, websockets, pycryptodomex, mutagen, yt-dlp\n",
            "Successfully installed brotli-1.1.0 mutagen-1.47.0 pycryptodomex-3.21.0 websockets-13.1 yt-dlp-2024.10.22\n",
            "Requirement already satisfied: moviepy in /usr/local/lib/python3.10/dist-packages (1.0.3)\n",
            "Requirement already satisfied: decorator<5.0,>=4.0.2 in /usr/local/lib/python3.10/dist-packages (from moviepy) (4.4.2)\n",
            "Requirement already satisfied: tqdm<5.0,>=4.11.2 in /usr/local/lib/python3.10/dist-packages (from moviepy) (4.66.6)\n",
            "Requirement already satisfied: requests<3.0,>=2.8.1 in /usr/local/lib/python3.10/dist-packages (from moviepy) (2.32.3)\n",
            "Requirement already satisfied: proglog<=1.0.0 in /usr/local/lib/python3.10/dist-packages (from moviepy) (0.1.10)\n",
            "Requirement already satisfied: numpy>=1.17.3 in /usr/local/lib/python3.10/dist-packages (from moviepy) (1.26.4)\n",
            "Requirement already satisfied: imageio<3.0,>=2.5 in /usr/local/lib/python3.10/dist-packages (from moviepy) (2.36.0)\n",
            "Requirement already satisfied: imageio-ffmpeg>=0.2.0 in /usr/local/lib/python3.10/dist-packages (from moviepy) (0.5.1)\n",
            "Requirement already satisfied: pillow>=8.3.2 in /usr/local/lib/python3.10/dist-packages (from imageio<3.0,>=2.5->moviepy) (10.4.0)\n",
            "Requirement already satisfied: setuptools in /usr/local/lib/python3.10/dist-packages (from imageio-ffmpeg>=0.2.0->moviepy) (75.1.0)\n",
            "Requirement already satisfied: charset-normalizer<4,>=2 in /usr/local/lib/python3.10/dist-packages (from requests<3.0,>=2.8.1->moviepy) (3.4.0)\n",
            "Requirement already satisfied: idna<4,>=2.5 in /usr/local/lib/python3.10/dist-packages (from requests<3.0,>=2.8.1->moviepy) (3.10)\n",
            "Requirement already satisfied: urllib3<3,>=1.21.1 in /usr/local/lib/python3.10/dist-packages (from requests<3.0,>=2.8.1->moviepy) (2.2.3)\n",
            "Requirement already satisfied: certifi>=2017.4.17 in /usr/local/lib/python3.10/dist-packages (from requests<3.0,>=2.8.1->moviepy) (2024.8.30)\n",
            "Collecting openai-whisper\n",
            "  Downloading openai-whisper-20240930.tar.gz (800 kB)\n",
            "\u001b[2K     \u001b[90m━━━━━━━━━━━━━━━━━━━━━━━━━━━━━━━━━━━━━━━━\u001b[0m \u001b[32m800.5/800.5 kB\u001b[0m \u001b[31m11.0 MB/s\u001b[0m eta \u001b[36m0:00:00\u001b[0m\n",
            "\u001b[?25h  Installing build dependencies ... \u001b[?25l\u001b[?25hdone\n",
            "  Getting requirements to build wheel ... \u001b[?25l\u001b[?25hdone\n",
            "  Preparing metadata (pyproject.toml) ... \u001b[?25l\u001b[?25hdone\n",
            "Requirement already satisfied: numba in /usr/local/lib/python3.10/dist-packages (from openai-whisper) (0.60.0)\n",
            "Requirement already satisfied: numpy in /usr/local/lib/python3.10/dist-packages (from openai-whisper) (1.26.4)\n",
            "Requirement already satisfied: torch in /usr/local/lib/python3.10/dist-packages (from openai-whisper) (2.5.0+cu121)\n",
            "Requirement already satisfied: tqdm in /usr/local/lib/python3.10/dist-packages (from openai-whisper) (4.66.6)\n",
            "Requirement already satisfied: more-itertools in /usr/local/lib/python3.10/dist-packages (from openai-whisper) (10.5.0)\n",
            "Collecting tiktoken (from openai-whisper)\n",
            "  Downloading tiktoken-0.8.0-cp310-cp310-manylinux_2_17_x86_64.manylinux2014_x86_64.whl.metadata (6.6 kB)\n",
            "Collecting triton>=2.0.0 (from openai-whisper)\n",
            "  Downloading triton-3.1.0-cp310-cp310-manylinux_2_17_x86_64.manylinux2014_x86_64.whl.metadata (1.3 kB)\n",
            "Requirement already satisfied: filelock in /usr/local/lib/python3.10/dist-packages (from triton>=2.0.0->openai-whisper) (3.16.1)\n",
            "Requirement already satisfied: llvmlite<0.44,>=0.43.0dev0 in /usr/local/lib/python3.10/dist-packages (from numba->openai-whisper) (0.43.0)\n",
            "Requirement already satisfied: regex>=2022.1.18 in /usr/local/lib/python3.10/dist-packages (from tiktoken->openai-whisper) (2024.9.11)\n",
            "Requirement already satisfied: requests>=2.26.0 in /usr/local/lib/python3.10/dist-packages (from tiktoken->openai-whisper) (2.32.3)\n",
            "Requirement already satisfied: typing-extensions>=4.8.0 in /usr/local/lib/python3.10/dist-packages (from torch->openai-whisper) (4.12.2)\n",
            "Requirement already satisfied: networkx in /usr/local/lib/python3.10/dist-packages (from torch->openai-whisper) (3.4.2)\n",
            "Requirement already satisfied: jinja2 in /usr/local/lib/python3.10/dist-packages (from torch->openai-whisper) (3.1.4)\n",
            "Requirement already satisfied: fsspec in /usr/local/lib/python3.10/dist-packages (from torch->openai-whisper) (2024.10.0)\n",
            "Requirement already satisfied: sympy==1.13.1 in /usr/local/lib/python3.10/dist-packages (from torch->openai-whisper) (1.13.1)\n",
            "Requirement already satisfied: mpmath<1.4,>=1.1.0 in /usr/local/lib/python3.10/dist-packages (from sympy==1.13.1->torch->openai-whisper) (1.3.0)\n",
            "Requirement already satisfied: charset-normalizer<4,>=2 in /usr/local/lib/python3.10/dist-packages (from requests>=2.26.0->tiktoken->openai-whisper) (3.4.0)\n",
            "Requirement already satisfied: idna<4,>=2.5 in /usr/local/lib/python3.10/dist-packages (from requests>=2.26.0->tiktoken->openai-whisper) (3.10)\n",
            "Requirement already satisfied: urllib3<3,>=1.21.1 in /usr/local/lib/python3.10/dist-packages (from requests>=2.26.0->tiktoken->openai-whisper) (2.2.3)\n",
            "Requirement already satisfied: certifi>=2017.4.17 in /usr/local/lib/python3.10/dist-packages (from requests>=2.26.0->tiktoken->openai-whisper) (2024.8.30)\n",
            "Requirement already satisfied: MarkupSafe>=2.0 in /usr/local/lib/python3.10/dist-packages (from jinja2->torch->openai-whisper) (3.0.2)\n",
            "Downloading triton-3.1.0-cp310-cp310-manylinux_2_17_x86_64.manylinux2014_x86_64.whl (209.5 MB)\n",
            "\u001b[2K   \u001b[90m━━━━━━━━━━━━━━━━━━━━━━━━━━━━━━━━━━━━━━━━\u001b[0m \u001b[32m209.5/209.5 MB\u001b[0m \u001b[31m6.1 MB/s\u001b[0m eta \u001b[36m0:00:00\u001b[0m\n",
            "\u001b[?25hDownloading tiktoken-0.8.0-cp310-cp310-manylinux_2_17_x86_64.manylinux2014_x86_64.whl (1.2 MB)\n",
            "\u001b[2K   \u001b[90m━━━━━━━━━━━━━━━━━━━━━━━━━━━━━━━━━━━━━━━━\u001b[0m \u001b[32m1.2/1.2 MB\u001b[0m \u001b[31m58.1 MB/s\u001b[0m eta \u001b[36m0:00:00\u001b[0m\n",
            "\u001b[?25hBuilding wheels for collected packages: openai-whisper\n",
            "  Building wheel for openai-whisper (pyproject.toml) ... \u001b[?25l\u001b[?25hdone\n",
            "  Created wheel for openai-whisper: filename=openai_whisper-20240930-py3-none-any.whl size=803321 sha256=036c16ebba1756e2fe698ac525de4c75ac7384e886c7036c33d490e67917f7bd\n",
            "  Stored in directory: /root/.cache/pip/wheels/dd/4a/1f/d1c4bf3b9133c8168fe617ed979cab7b14fe381d059ffb9d83\n",
            "Successfully built openai-whisper\n",
            "Installing collected packages: triton, tiktoken, openai-whisper\n",
            "Successfully installed openai-whisper-20240930 tiktoken-0.8.0 triton-3.1.0\n"
          ]
        }
      ],
      "source": [
        "!pip install yt-dlp\n",
        "!pip install moviepy\n",
        "!pip install openai-whisper\n"
      ]
    },
    {
      "cell_type": "code",
      "execution_count": null,
      "metadata": {
        "collapsed": true,
        "id": "nqljb1W63wJc"
      },
      "outputs": [],
      "source": [
        "from yt_dlp import YoutubeDL\n",
        "from moviepy.editor import VideoFileClip\n",
        "from glob import glob\n",
        "import whisper\n",
        "import pandas as pd"
      ]
    },
    {
      "cell_type": "code",
      "execution_count": null,
      "metadata": {
        "id": "J3U9_VMDepZb"
      },
      "outputs": [],
      "source": [
        "video_url = ['https://youtu.be/fC7V8QsPBec?si=4ooByD-C_Kdlrwh2','https://youtu.be/a2B69vCtjOU?si=e4V3gGPYSnuNT7p7',\"https://youtu.be/otN3V0beVRo?si=-Zq2eyfFalDmES31\",\"https://youtu.be/Gm4W6BNqDB4?si=06oKDIFz9zbjkfZG\"]\n"
      ]
    },
    {
      "cell_type": "code",
      "execution_count": null,
      "metadata": {
        "id": "CPyPY7bBr91W"
      },
      "outputs": [],
      "source": [
        "import os"
      ]
    },
    {
      "cell_type": "code",
      "execution_count": null,
      "metadata": {
        "id": "eOTjEyrahkfv"
      },
      "outputs": [],
      "source": [
        "def download_youtube_video_yt_dlp(url, output_path='/content/videos/'):\n",
        "    if not os.path.exists(output_path):\n",
        "        os.makedirs(output_path)\n",
        "\n",
        "    ydl_opts = {\n",
        "        'format': 'bestvideo[ext=mp4]+bestaudio[ext=m4a]/mp4',\n",
        "        'outtmpl': f'{output_path}/%(title)s.%(ext)s'\n",
        "    }\n",
        "\n",
        "    with YoutubeDL(ydl_opts) as ydl:\n",
        "        ydl.download([url])"
      ]
    },
    {
      "cell_type": "code",
      "execution_count": null,
      "metadata": {
        "colab": {
          "base_uri": "https://localhost:8080/"
        },
        "id": "0vzQ6qESe7V9",
        "outputId": "a454e066-2a3f-4d3d-9eec-48cc56a58b2e"
      },
      "outputs": [
        {
          "name": "stdout",
          "output_type": "stream",
          "text": [
            "[youtube] Extracting URL: https://youtu.be/fC7V8QsPBec?si=4ooByD-C_Kdlrwh2\n",
            "[youtube] fC7V8QsPBec: Downloading webpage\n",
            "[youtube] fC7V8QsPBec: Downloading ios player API JSON\n",
            "[youtube] fC7V8QsPBec: Downloading mweb player API JSON\n",
            "[youtube] fC7V8QsPBec: Downloading player 4e23410d\n",
            "[youtube] fC7V8QsPBec: Downloading m3u8 information\n",
            "[info] fC7V8QsPBec: Downloading 1 format(s): 609+140\n",
            "[hlsnative] Downloading m3u8 manifest\n",
            "[hlsnative] Total fragments: 181\n",
            "[download] Destination: /content/videos//Week 1 - Lecture 1 - Introduction to Machine Learning.f609.mp4\n",
            "[download] 100% of  110.34MiB in 00:00:30 at 3.58MiB/s                   \n",
            "[download] Destination: /content/videos//Week 1 - Lecture 1 - Introduction to Machine Learning.f140.m4a\n",
            "[download] 100% of   14.32MiB in 00:00:04 at 3.12MiB/s   \n",
            "[Merger] Merging formats into \"/content/videos//Week 1 - Lecture 1 - Introduction to Machine Learning.mp4\"\n",
            "Deleting original file /content/videos//Week 1 - Lecture 1 - Introduction to Machine Learning.f140.m4a (pass -k to keep)\n",
            "Deleting original file /content/videos//Week 1 - Lecture 1 - Introduction to Machine Learning.f609.mp4 (pass -k to keep)\n",
            "[youtube] Extracting URL: https://youtu.be/a2B69vCtjOU?si=e4V3gGPYSnuNT7p7\n",
            "[youtube] a2B69vCtjOU: Downloading webpage\n",
            "[youtube] a2B69vCtjOU: Downloading ios player API JSON\n",
            "[youtube] a2B69vCtjOU: Downloading mweb player API JSON\n",
            "[youtube] a2B69vCtjOU: Downloading m3u8 information\n",
            "[info] a2B69vCtjOU: Downloading 1 format(s): 136+140\n",
            "[download] Destination: /content/videos//W1 L1 - Introduction to OS.f136.mp4\n",
            "[download] 100% of   18.34MiB in 00:00:00 at 19.91MiB/s  \n",
            "[download] Destination: /content/videos//W1 L1 - Introduction to OS.f140.m4a\n",
            "[download] 100% of   20.19MiB in 00:00:05 at 3.55MiB/s   \n",
            "[Merger] Merging formats into \"/content/videos//W1 L1 - Introduction to OS.mp4\"\n",
            "Deleting original file /content/videos//W1 L1 - Introduction to OS.f136.mp4 (pass -k to keep)\n",
            "Deleting original file /content/videos//W1 L1 - Introduction to OS.f140.m4a (pass -k to keep)\n",
            "[youtube] Extracting URL: https://youtu.be/otN3V0beVRo?si=-Zq2eyfFalDmES31\n",
            "[youtube] otN3V0beVRo: Downloading webpage\n",
            "[youtube] otN3V0beVRo: Downloading ios player API JSON\n",
            "[youtube] otN3V0beVRo: Downloading mweb player API JSON\n",
            "[youtube] otN3V0beVRo: Downloading m3u8 information\n",
            "[info] otN3V0beVRo: Downloading 1 format(s): 136+140\n",
            "[download] Destination: /content/videos//Part1 - Definition of Information Security.f136.mp4\n",
            "[download] 100% of   44.05MiB in 00:00:00 at 51.86MiB/s  \n",
            "[download] Destination: /content/videos//Part1 - Definition of Information Security.f140.m4a\n",
            "[download] 100% of   16.40MiB in 00:00:00 at 42.53MiB/s  \n",
            "[Merger] Merging formats into \"/content/videos//Part1 - Definition of Information Security.mp4\"\n",
            "Deleting original file /content/videos//Part1 - Definition of Information Security.f136.mp4 (pass -k to keep)\n",
            "Deleting original file /content/videos//Part1 - Definition of Information Security.f140.m4a (pass -k to keep)\n",
            "[youtube] Extracting URL: https://youtu.be/Gm4W6BNqDB4?si=06oKDIFz9zbjkfZG\n",
            "[youtube] Gm4W6BNqDB4: Downloading webpage\n",
            "[youtube] Gm4W6BNqDB4: Downloading ios player API JSON\n",
            "[youtube] Gm4W6BNqDB4: Downloading mweb player API JSON\n",
            "[youtube] Gm4W6BNqDB4: Downloading m3u8 information\n",
            "[info] Gm4W6BNqDB4: Downloading 1 format(s): 137+140\n",
            "[download] Destination: /content/videos//Recoverable schdeules and transaction isolation levels.f137.mp4\n",
            "[download] 100% of  119.76MiB in 00:00:06 at 18.23MiB/s  \n",
            "[download] Destination: /content/videos//Recoverable schdeules and transaction isolation levels.f140.m4a\n",
            "[download] 100% of   22.32MiB in 00:00:09 at 2.26MiB/s   \n",
            "[Merger] Merging formats into \"/content/videos//Recoverable schdeules and transaction isolation levels.mp4\"\n",
            "Deleting original file /content/videos//Recoverable schdeules and transaction isolation levels.f137.mp4 (pass -k to keep)\n",
            "Deleting original file /content/videos//Recoverable schdeules and transaction isolation levels.f140.m4a (pass -k to keep)\n"
          ]
        }
      ],
      "source": [
        "for i in video_url:\n",
        "  download_youtube_video_yt_dlp(i)"
      ]
    },
    {
      "cell_type": "code",
      "execution_count": null,
      "metadata": {
        "id": "45aPNMq1gqAr"
      },
      "outputs": [],
      "source": [
        "video_path = glob(\"/content/videos/*\")"
      ]
    },
    {
      "cell_type": "code",
      "execution_count": null,
      "metadata": {
        "colab": {
          "base_uri": "https://localhost:8080/"
        },
        "id": "CoQKbtA1tk02",
        "outputId": "a4f2655c-798a-4f4f-f37c-19f1b4b69bbe"
      },
      "outputs": [
        {
          "data": {
            "text/plain": [
              "['/content/videos/W1 L1 - Introduction to OS.mp4',\n",
              " '/content/videos/Week 1 - Lecture 1 - Introduction to Machine Learning.mp4',\n",
              " '/content/videos/Recoverable schdeules and transaction isolation levels.mp4',\n",
              " '/content/videos/Part1 - Definition of Information Security.mp4']"
            ]
          },
          "execution_count": 10,
          "metadata": {},
          "output_type": "execute_result"
        }
      ],
      "source": [
        "video_path"
      ]
    },
    {
      "cell_type": "code",
      "execution_count": null,
      "metadata": {
        "id": "tWFm4E8Mt6T8"
      },
      "outputs": [],
      "source": [
        "output_Audio='/content/Audio/'\n",
        "if not os.path.exists(output_Audio):\n",
        "        os.makedirs(output_Audio)"
      ]
    },
    {
      "cell_type": "code",
      "execution_count": null,
      "metadata": {
        "colab": {
          "base_uri": "https://localhost:8080/"
        },
        "id": "lvvG5KNPtPko",
        "outputId": "75a69f92-38fe-4c0b-f0e6-15d81ff81884"
      },
      "outputs": [
        {
          "name": "stdout",
          "output_type": "stream",
          "text": [
            "MoviePy - Writing audio in /content/Audio/W1 L1 - Introduction to OS.mp3\n"
          ]
        },
        {
          "name": "stderr",
          "output_type": "stream",
          "text": []
        },
        {
          "name": "stdout",
          "output_type": "stream",
          "text": [
            "MoviePy - Done.\n",
            "Audio extracted successfully for /content/videos/W1 L1 - Introduction to OS.mp4.\n",
            "MoviePy - Writing audio in /content/Audio/Week 1 - Lecture 1 - Introduction to Machine Learning.mp3\n"
          ]
        },
        {
          "name": "stderr",
          "output_type": "stream",
          "text": []
        },
        {
          "name": "stdout",
          "output_type": "stream",
          "text": [
            "MoviePy - Done.\n",
            "Audio extracted successfully for /content/videos/Week 1 - Lecture 1 - Introduction to Machine Learning.mp4.\n",
            "MoviePy - Writing audio in /content/Audio/Recoverable schdeules and transaction isolation levels.mp3\n"
          ]
        },
        {
          "name": "stderr",
          "output_type": "stream",
          "text": []
        },
        {
          "name": "stdout",
          "output_type": "stream",
          "text": [
            "MoviePy - Done.\n",
            "Audio extracted successfully for /content/videos/Recoverable schdeules and transaction isolation levels.mp4.\n",
            "MoviePy - Writing audio in /content/Audio/Part1 - Definition of Information Security.mp3\n"
          ]
        },
        {
          "name": "stderr",
          "output_type": "stream",
          "text": [
            "                                                                       "
          ]
        },
        {
          "name": "stdout",
          "output_type": "stream",
          "text": [
            "MoviePy - Done.\n",
            "Audio extracted successfully for /content/videos/Part1 - Definition of Information Security.mp4.\n"
          ]
        },
        {
          "name": "stderr",
          "output_type": "stream",
          "text": [
            "\r"
          ]
        }
      ],
      "source": [
        "from moviepy.editor import VideoFileClip\n",
        "import os\n",
        "\n",
        "# Assuming video_path is a list of video file paths\n",
        "for path in video_path:\n",
        "    try:\n",
        "        # Define the audio output path by replacing the directory and file extension\n",
        "        audio_output_path = path.replace(\"videos\", \"Audio\").replace(\".mp4\", \".mp3\")\n",
        "\n",
        "        # Create the output directory if it doesn't exist\n",
        "        output_dir = os.path.dirname(audio_output_path)\n",
        "        os.makedirs(output_dir, exist_ok=True)\n",
        "\n",
        "        # Load the video clip and extract audio\n",
        "        video_clip = VideoFileClip(path)\n",
        "        audio_clip = video_clip.audio\n",
        "\n",
        "        # Write the audio file\n",
        "        audio_clip.write_audiofile(audio_output_path)\n",
        "\n",
        "        # Close the audio and video clips\n",
        "        audio_clip.close()\n",
        "        video_clip.close()\n",
        "\n",
        "        print(f\"Audio extracted successfully for {path}.\")\n",
        "\n",
        "    except Exception as e:\n",
        "        print(f\"Failed to extract audio for {path}. Error: {e}\")\n"
      ]
    },
    {
      "cell_type": "code",
      "execution_count": null,
      "metadata": {
        "id": "au6IxUInxhYV"
      },
      "outputs": [],
      "source": [
        "output_Audio='/content/transcript/'\n",
        "if not os.path.exists(output_Audio):\n",
        "        os.makedirs(output_Audio)"
      ]
    },
    {
      "cell_type": "code",
      "execution_count": null,
      "metadata": {
        "colab": {
          "base_uri": "https://localhost:8080/",
          "height": 36
        },
        "id": "u1M4WKDgyMu2",
        "outputId": "6ff77bd6-dc5d-4bff-a32e-ea7f17adc34f"
      },
      "outputs": [
        {
          "data": {
            "application/vnd.google.colaboratory.intrinsic+json": {
              "type": "string"
            },
            "text/plain": [
              "'Part1 - Definition of Information Security'"
            ]
          },
          "execution_count": 19,
          "metadata": {},
          "output_type": "execute_result"
        }
      ],
      "source": []
    },
    {
      "cell_type": "code",
      "execution_count": null,
      "metadata": {
        "colab": {
          "background_save": true,
          "base_uri": "https://localhost:8080/"
        },
        "id": "RsGxsJ7A4CCA",
        "outputId": "4e771c18-cb67-483c-d058-bcb6ff432a02"
      },
      "outputs": [
        {
          "name": "stderr",
          "output_type": "stream",
          "text": [
            "WARNING:py.warnings:/usr/local/lib/python3.10/dist-packages/whisper/__init__.py:150: FutureWarning: You are using `torch.load` with `weights_only=False` (the current default value), which uses the default pickle module implicitly. It is possible to construct malicious pickle data which will execute arbitrary code during unpickling (See https://github.com/pytorch/pytorch/blob/main/SECURITY.md#untrusted-models for more details). In a future release, the default value for `weights_only` will be flipped to `True`. This limits the functions that could be executed during unpickling. Arbitrary objects will no longer be allowed to be loaded via this mode unless they are explicitly allowlisted by the user via `torch.serialization.add_safe_globals`. We recommend you start setting `weights_only=True` for any use case where you don't have full control of the loaded file. Please open an issue on GitHub for any issues related to this experimental feature.\n",
            "  checkpoint = torch.load(fp, map_location=device)\n",
            "\n",
            "WARNING:py.warnings:/usr/local/lib/python3.10/dist-packages/whisper/transcribe.py:126: UserWarning: FP16 is not supported on CPU; using FP32 instead\n",
            "  warnings.warn(\"FP16 is not supported on CPU; using FP32 instead\")\n",
            "\n",
            "WARNING:py.warnings:/usr/local/lib/python3.10/dist-packages/whisper/transcribe.py:126: UserWarning: FP16 is not supported on CPU; using FP32 instead\n",
            "  warnings.warn(\"FP16 is not supported on CPU; using FP32 instead\")\n",
            "\n",
            "WARNING:py.warnings:/usr/local/lib/python3.10/dist-packages/whisper/transcribe.py:126: UserWarning: FP16 is not supported on CPU; using FP32 instead\n",
            "  warnings.warn(\"FP16 is not supported on CPU; using FP32 instead\")\n",
            "\n",
            "WARNING:py.warnings:/usr/local/lib/python3.10/dist-packages/whisper/transcribe.py:126: UserWarning: FP16 is not supported on CPU; using FP32 instead\n",
            "  warnings.warn(\"FP16 is not supported on CPU; using FP32 instead\")\n",
            "\n"
          ]
        }
      ],
      "source": [
        "model = whisper.load_model(\"base\")\n",
        "for i in video_path:\n",
        "\n",
        "  result = model.transcribe(i.replace(\"videos\",\"Audio\").split(\".\")[0]+\".mp3\")\n",
        "  df_subtitles = pd.DataFrame(result[\"segments\"]).drop(columns=[\"tokens\",\"temperature\",\"avg_logprob\",\"compression_ratio\",\"no_speech_prob\",\"id\",\"seek\"])\n",
        "  df_subtitles.to_csv(\"/content/transcript/\"+i.split(\"/\")[-1].split(\".\")[0]+\".csv\")\n",
        "\n",
        "\n"
      ]
    },
    {
      "cell_type": "code",
      "execution_count": null,
      "metadata": {
        "colab": {
          "base_uri": "https://localhost:8080/"
        },
        "id": "YiOYZM_y4KWn",
        "outputId": "5a76216b-fa6b-4dd3-e69d-3627545c47df"
      },
      "outputs": [
        {
          "output_type": "stream",
          "name": "stderr",
          "text": [
            "[nltk_data] Downloading package stopwords to /root/nltk_data...\n",
            "[nltk_data]   Unzipping corpora/stopwords.zip.\n",
            "[nltk_data] Downloading package punkt to /root/nltk_data...\n",
            "[nltk_data]   Unzipping tokenizers/punkt.zip.\n",
            "[nltk_data] Downloading package wordnet to /root/nltk_data...\n"
          ]
        }
      ],
      "source": [
        "import pandas as pd\n",
        "import re\n",
        "import string\n",
        "from nltk.corpus import stopwords\n",
        "from nltk.stem import PorterStemmer, WordNetLemmatizer\n",
        "import nltk\n",
        "nltk.download('stopwords')\n",
        "nltk.download('punkt')\n",
        "nltk.download('wordnet')\n",
        "\n",
        "\n",
        "def preprocess_subtitles(subtitles_df, use_stemming=True):\n",
        "    stop_words = set(stopwords.words('english'))\n",
        "    stemmer = PorterStemmer()\n",
        "    lemmatizer = WordNetLemmatizer()\n",
        "\n",
        "    cleaned_entries = []\n",
        "\n",
        "    for index, row in subtitles_df.iterrows():\n",
        "        text = row['text']\n",
        "        start_time = row['start']\n",
        "        end_time = row['end']\n",
        "        text = text.lower()\n",
        "        text = re.sub(r'[{}]+'.format(string.punctuation), ' ', text)\n",
        "        words = text.split()\n",
        "        words = [word for word in words if word not in stop_words]\n",
        "        if use_stemming:\n",
        "            words = [stemmer.stem(word) for word in words]\n",
        "        else:\n",
        "            words = [lemmatizer.lemmatize(word) for word in words]\n",
        "        cleaned_text = ' '.join(words)\n",
        "        cleaned_entries.append({\n",
        "            'Start Time': start_time,\n",
        "            'End Time': end_time,\n",
        "            'Cleaned Text': cleaned_text\n",
        "        })\n",
        "\n",
        "    return pd.DataFrame(cleaned_entries)\n",
        "\n",
        "\n"
      ]
    },
    {
      "cell_type": "code",
      "execution_count": null,
      "metadata": {
        "id": "QzkfjqN8IO3V"
      },
      "outputs": [],
      "source": [
        "import pandas as pd\n",
        "from sklearn.feature_extraction.text import TfidfVectorizer\n",
        "import numpy as np\n",
        "\n",
        "\n",
        "def summarize_subtitles(subtitles_df):\n",
        "    vectorizer = TfidfVectorizer()\n",
        "    tfidf_matrix = vectorizer.fit_transform(subtitles_df['Cleaned Text'])\n",
        "\n",
        "\n",
        "    feature_names = vectorizer.get_feature_names_out()\n",
        "    tfidf_dicts = []\n",
        "    for row in tfidf_matrix:\n",
        "        tfidf_scores = dict(zip(feature_names, row.toarray().flatten()))\n",
        "        tfidf_dicts.append(tfidf_scores)\n",
        "\n",
        "    sentence_scores = []\n",
        "    for idx, row in subtitles_df.iterrows():\n",
        "        words = row['Cleaned Text'].split()\n",
        "        sentence_score = sum([tfidf_dicts[idx].get(word, 0) for word in words])\n",
        "        sentence_score /= len(words) if len(words) > 0 else 1  # Normalize by sentence length\n",
        "        sentence_scores.append(sentence_score)\n",
        "\n",
        "\n",
        "    subtitles_df['Score'] = sentence_scores\n",
        "    avg_score = np.mean(sentence_scores)\n",
        "\n",
        "    summary_df = subtitles_df[subtitles_df['Score'] > avg_score].copy()\n",
        "    summary_df = summary_df.sort_values(by=['Start Time'])\n",
        "\n",
        "    summary_df.reset_index(drop=True, inplace=True)\n",
        "\n",
        "    return summary_df[['Start Time', 'End Time', 'Cleaned Text', 'Score']]\n",
        "\n"
      ]
    },
    {
      "cell_type": "code",
      "source": [
        "subtitles=glob(\"/content/transcript/*.csv\")"
      ],
      "metadata": {
        "id": "RilHedic_9MZ"
      },
      "execution_count": null,
      "outputs": []
    },
    {
      "cell_type": "code",
      "source": [
        "for i in subtitles:\n",
        "  df_cleaned_subtitles = preprocess_subtitles(pd.read_csv(i))\n",
        "  df_summary = summarize_subtitles(df_cleaned_subtitles)\n",
        "  df_summary.to_csv(i.split(\"/\")[-1].split(\".\")[0]+\"_summary.csv\")\n"
      ],
      "metadata": {
        "id": "PJag7koTAHSc"
      },
      "execution_count": null,
      "outputs": []
    }
  ],
  "metadata": {
    "colab": {
      "provenance": []
    },
    "kernelspec": {
      "display_name": "Python 3",
      "name": "python3"
    },
    "language_info": {
      "name": "python"
    }
  },
  "nbformat": 4,
  "nbformat_minor": 0
}