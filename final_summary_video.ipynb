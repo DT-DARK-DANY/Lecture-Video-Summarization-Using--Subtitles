{
  "nbformat": 4,
  "nbformat_minor": 0,
  "metadata": {
    "colab": {
      "provenance": []
    },
    "kernelspec": {
      "name": "python3",
      "display_name": "Python 3"
    },
    "language_info": {
      "name": "python"
    }
  },
  "cells": [
    {
      "cell_type": "code",
      "execution_count": 1,
      "metadata": {
        "colab": {
          "base_uri": "https://localhost:8080/"
        },
        "id": "PQFFD2yEwcm4",
        "outputId": "a06ae060-1ad1-4b4e-ad8a-67398f009c73"
      },
      "outputs": [
        {
          "output_type": "stream",
          "name": "stderr",
          "text": [
            "WARNING:py.warnings:/usr/local/lib/python3.10/dist-packages/moviepy/video/io/sliders.py:61: SyntaxWarning: \"is\" with a literal. Did you mean \"==\"?\n",
            "  if event.key is 'enter':\n",
            "\n"
          ]
        },
        {
          "output_type": "stream",
          "name": "stdout",
          "text": [
            "Moviepy - Building video summarized_video.mp4.\n",
            "MoviePy - Writing audio in summarized_videoTEMP_MPY_wvf_snd.mp3\n"
          ]
        },
        {
          "output_type": "stream",
          "name": "stderr",
          "text": []
        },
        {
          "output_type": "stream",
          "name": "stdout",
          "text": [
            "MoviePy - Done.\n",
            "Moviepy - Writing video summarized_video.mp4\n",
            "\n"
          ]
        },
        {
          "output_type": "stream",
          "name": "stderr",
          "text": []
        },
        {
          "output_type": "stream",
          "name": "stdout",
          "text": [
            "Moviepy - Done !\n",
            "Moviepy - video ready summarized_video.mp4\n"
          ]
        }
      ],
      "source": [
        "import pandas as pd\n",
        "from moviepy.video.io.VideoFileClip import VideoFileClip\n",
        "from moviepy.editor import concatenate_videoclips\n",
        "DATA=pd.read_csv('/content/drive/MyDrive/NILE TASK/transcript/TRY4_LLM/Part1 - Definition of Information Security_summary.csv')\n",
        "\n",
        "\n",
        "video_path = \"/content/drive/MyDrive/NILE TASK/videos/Part1 - Definition of Information Security.mp4\"\n",
        "original_clip = VideoFileClip(video_path)\n",
        "\n",
        "sub_clips = []\n",
        "for _, row in DATA.iterrows():\n",
        "    start = row['start']\n",
        "    end = row['end']\n",
        "    sub_clip = original_clip.subclip(start, end)\n",
        "    sub_clips.append(sub_clip)\n",
        "\n",
        "final_clip = concatenate_videoclips(sub_clips)\n",
        "\n",
        "output_path = \"summarized_video.mp4\"\n",
        "final_clip.write_videofile(output_path, codec=\"libx264\")\n",
        "\n",
        "original_clip.close()\n",
        "final_clip.close()\n"
      ]
    }
  ]
}